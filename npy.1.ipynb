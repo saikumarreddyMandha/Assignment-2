{
  "cells": [
    {
      "cell_type": "code",
      "execution_count": 1,
      "metadata": {
        "colab": {
          "base_uri": "https://localhost:8080/"
        },
        "id": "Otgx-qiS6q5z",
        "outputId": "dd1019b0-e642-4db4-ad4b-1a5576316fb0"
      },
      "outputs": [
        {
          "name": "stdout",
          "output_type": "stream",
          "text": [
            "Employee 1: \n",
            "Enter name: saikumar\n",
            "Family Members: 5\n",
            "Employee Salary: 120000\n",
            "Employee Department: Computer science\n",
            "Employee 2: \n",
            "Enter name: Srinivas\n",
            "Family Members: 4\n",
            "Employee Salary: 30000\n",
            "Employee Department: cs\n",
            "Full Time Employee 1: \n",
            "Enter name: Ramesh\n",
            "Family Members: 164000\n",
            "Employee Salary: 164000\n",
            "Employee Department: cs\n",
            "\n",
            "Number of employees:  3\n",
            "Avg salary is : 75000.0\n"
          ]
        }
      ],
      "source": [
        "\n",
        "class Employee:\n",
        "    numberOfEmployees = 0\n",
        "\n",
        "    def __init__(self, name, family, salary, department):\n",
        "        self.name = name\n",
        "        self.family = family\n",
        "        self.salary = salary\n",
        "        self.department = department\n",
        "        Employee.numberOfEmployees+=1\n",
        "\n",
        "\n",
        "def averagesalary(employee):\n",
        "    total = sum(e.salary for e in employee)\n",
        "    average = total / len(employee)\n",
        "    return average\n",
        "\n",
        "class FulltimeEmployee(Employee):\n",
        "    def __init__(self, name, family, salary, department):\n",
        "        Employee.__init__(self,name, family, salary, department)\n",
        "\n",
        "print(\"Employee 1: \")\n",
        "employee1 = Employee(input(\"Enter name: \"),input(\"Family Members: \"),int(input(\"Employee Salary: \")),input(\"Employee Department: \"))\n",
        "print(\"Employee 2: \")\n",
        "employee2 = Employee(input(\"Enter name: \"),input(\"Family Members: \"),int(input(\"Employee Salary: \")),input(\"Employee Department: \"))\n",
        "print(\"Full Time Employee 1: \")\n",
        "employee3 = FulltimeEmployee(input(\"Enter name: \"),input(\"Family Members: \"),int(input(\"Employee Salary: \")),input(\"Employee Department: \"))\n",
        "print(\"\")\n",
        "print(\"Number of employees: \",Employee.numberOfEmployees)\n",
        "listofEmployees = [employee1, employee2]\n",
        "avgsalary = averagesalary(listofEmployees)\n",
        "print(\"Avg salary is :\", avgsalary)"
      ]
    }
  ],
  "metadata": {
    "colab": {
      "name": "Welcome To Colab",
      "provenance": [],
      "toc_visible": true
    },
    "kernelspec": {
      "display_name": "Python 3",
      "name": "python3"
    }
  },
  "nbformat": 4,
  "nbformat_minor": 0
}
