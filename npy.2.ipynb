{
  "cells": [
    {
      "cell_type": "code",
      "execution_count": 4,
      "metadata": {
        "colab": {
          "base_uri": "https://localhost:8080/"
        },
        "id": "TbJNVZPl7l3d",
        "outputId": "0e23a684-131e-4fe8-f2ee-59e73f7f4dfe"
      },
      "outputs": [
        {
          "name": "stdout",
          "output_type": "stream",
          "text": [
            "[ 1.08559715 11.57623868  6.30066314  3.75021378 19.96713616 16.69584533\n",
            " 17.53379504 18.71371071 18.83256996 16.66385945 17.90107257 11.42516598\n",
            " 18.13583381 10.1593461   4.08738795 19.02571049  1.16908411 15.46785569\n",
            " 12.32275242 18.91997366]\n",
            "\n",
            "\n",
            "\n",
            "\n",
            "[[ 1.08559715 11.57623868  6.30066314  3.75021378 19.96713616]\n",
            " [16.69584533 17.53379504 18.71371071 18.83256996 16.66385945]\n",
            " [17.90107257 11.42516598 18.13583381 10.1593461   4.08738795]\n",
            " [19.02571049  1.16908411 15.46785569 12.32275242 18.91997366]]\n",
            "\n",
            "\n",
            "[[ 1.08559715 11.57623868  6.30066314  3.75021378  0.        ]\n",
            " [16.69584533 17.53379504 18.71371071  0.         16.66385945]\n",
            " [17.90107257 11.42516598  0.         10.1593461   4.08738795]\n",
            " [ 0.          1.16908411 15.46785569 12.32275242 18.91997366]]\n"
          ]
        }
      ],
      "source": [
        "import numpy\n",
        "\n",
        "random_vector = numpy.random.uniform(1, 20, 20)\n",
        "print(random_vector)\n",
        "print(\"\")\n",
        "print(\"\")\n",
        "reshaped_array = random_vector.reshape(4, 5)\n",
        "print(\"\")\n",
        "print(\"\")\n",
        "print(reshaped_array)\n",
        "reshaped_array[numpy.arange(4), numpy.argmax(reshaped_array, axis=1)] = 0\n",
        "print(\"\")\n",
        "print(\"\")\n",
        "print(reshaped_array)"
      ]
    }
  ],
  "metadata": {
    "colab": {
      "name": "Welcome To Colab",
      "provenance": [],
      "toc_visible": true
    },
    "kernelspec": {
      "display_name": "Python 3",
      "name": "python3"
    }
  },
  "nbformat": 4,
  "nbformat_minor": 0
}
